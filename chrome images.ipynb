{
 "cells": [
  {
   "cell_type": "code",
   "execution_count": 1,
   "id": "33397418",
   "metadata": {},
   "outputs": [],
   "source": [
    "import pandas as pd\n",
    "from selenium import webdriver\n",
    "from selenium.webdriver.chrome.options import Options\n",
    "import time"
   ]
  },
  {
   "cell_type": "code",
   "execution_count": 2,
   "id": "de0e5693",
   "metadata": {},
   "outputs": [],
   "source": [
    "data = pd.read_excel(\"C:\\\\Users\\\\mjjyo\\\\OneDrive\\\\Desktop\\\\Bike_Crashes.xlsx\")"
   ]
  },
  {
   "cell_type": "code",
   "execution_count": 28,
   "id": "104b72d6",
   "metadata": {},
   "outputs": [],
   "source": [
    "unique_crash_types = data['CRASH CLASSIFICATION DESCRIPTION'].unique()"
   ]
  },
  {
   "cell_type": "code",
   "execution_count": 29,
   "id": "3c3a0d3e",
   "metadata": {},
   "outputs": [
    {
     "data": {
      "text/plain": [
       "array(['Non-Reportable', 'Personal Injury Crash', 'Property Damage Only',\n",
       "       'Fatality Crash'], dtype=object)"
      ]
     },
     "execution_count": 29,
     "metadata": {},
     "output_type": "execute_result"
    }
   ],
   "source": [
    "unique_crash_types"
   ]
  },
  {
   "cell_type": "code",
   "execution_count": 4,
   "id": "fb7db0ef",
   "metadata": {},
   "outputs": [],
   "source": [
    "from selenium import webdriver\n",
    "from selenium.webdriver.common.keys import Keys\n",
    "from selenium.webdriver.common.by import By\n",
    "from selenium.webdriver.common.action_chains import ActionChains\n",
    "from selenium.webdriver.support.ui import WebDriverWait\n",
    "from selenium.webdriver.support import expected_conditions as EC\n",
    "from selenium.common.exceptions import NoSuchElementException\n",
    "from selenium.common.exceptions import TimeoutException\n",
    "\n",
    "import undetected_chromedriver as uc \n",
    "import cfscrape"
   ]
  },
  {
   "cell_type": "code",
   "execution_count": null,
   "id": "56de01d0",
   "metadata": {},
   "outputs": [],
   "source": []
  },
  {
   "cell_type": "code",
   "execution_count": 55,
   "id": "8cc6e531",
   "metadata": {},
   "outputs": [],
   "source": [
    "def get_screenshot(latitude, longitude):\n",
    "    input_string = f\"{latitude}, {longitude}\"\n",
    "\n",
    "    # Construct the Google Maps URL with the coordinates\n",
    "    map_url = f\"https://www.google.com/maps/\"\n",
    "\n",
    "    # Open the URL in the driver\n",
    "    driver.get(map_url)\n",
    "    wait = WebDriverWait(driver, 10)\n",
    "    search_box = wait.until(EC.visibility_of_element_located((By.XPATH, \"//input[@id='searchboxinput']\")))\n",
    "    ActionChains(driver).move_to_element(search_box).click().send_keys(input_string).perform()\n",
    "    \n",
    "    time.sleep(1)\n",
    "    \n",
    "    search_button = driver.find_element(By.XPATH, \"//button[@id='searchbox-searchbutton']\")\n",
    "    ActionChains(driver).move_to_element(search_button).click().perform()\n",
    "\n",
    "    zoom_in_element = wait.until(EC.visibility_of_element_located((By.XPATH, \"//button[@id='widget-zoom-in']\")))\n",
    "\n",
    "    \n",
    "    num_clicks = 5\n",
    "    time.sleep(1)\n",
    "    for i in range(num_clicks):\n",
    "        ActionChains(driver).move_to_element(zoom_in_element).click().perform()\n",
    "        time.sleep(1)\n",
    "        \n",
    "        \n",
    "    collapse_button = driver.find_element(By.XPATH, \"//button[contains(@class,'yra0jd') and contains(@class,'Hk4XGb')]\")\n",
    "    collapse_button.click()\n",
    "\n",
    "    time.sleep(1)\n",
    "    \n",
    "    screenshot_filename = f\"C:\\\\Users\\\\mjjyo\\\\OneDrive\\\\Desktop\\\\Bike_Crash_Images\\\\{index}.png\"\n",
    "    driver.save_screenshot(screenshot_filename)\n",
    "    \n",
    "    undo_collapse = driver.find_element(By.XPATH, \"//button[contains(@class,'yra0jd') and contains(@class,'Hk4XGb')]\")\n",
    "    undo_collapse.click()\n",
    "    "
   ]
  },
  {
   "cell_type": "code",
   "execution_count": null,
   "id": "ef9e707f",
   "metadata": {},
   "outputs": [
    {
     "name": "stderr",
     "output_type": "stream",
     "text": [
      "C:\\Users\\mjjyo\\AppData\\Local\\Temp\\ipykernel_2444\\4086517360.py:6: DeprecationWarning: headless property is deprecated, instead use add_argument('--headless') or add_argument('--headless=new')\n",
      "  options.headless = False\n"
     ]
    }
   ],
   "source": [
    "# Make scraper that bypasses cloudflare\n",
    "scraper = cfscrape.create_scraper()\n",
    "\n",
    "# Create undetected chrome instance\n",
    "options = uc.ChromeOptions()\n",
    "options.headless = False\n",
    "driver = uc.Chrome(options=options)\n",
    "\n",
    "\n",
    "for index, row in data.iterrows():\n",
    "    latitude = row['LATITUDE']\n",
    "    longitude = row['LONGITUDE']\n",
    "    \n",
    "    get_screenshot(latitude, longitude)\n",
    "\n"
   ]
  },
  {
   "cell_type": "code",
   "execution_count": null,
   "id": "27cdb01a",
   "metadata": {},
   "outputs": [],
   "source": []
  }
 ],
 "metadata": {
  "kernelspec": {
   "display_name": "Python 3 (ipykernel)",
   "language": "python",
   "name": "python3"
  },
  "language_info": {
   "codemirror_mode": {
    "name": "ipython",
    "version": 3
   },
   "file_extension": ".py",
   "mimetype": "text/x-python",
   "name": "python",
   "nbconvert_exporter": "python",
   "pygments_lexer": "ipython3",
   "version": "3.9.13"
  }
 },
 "nbformat": 4,
 "nbformat_minor": 5
}
